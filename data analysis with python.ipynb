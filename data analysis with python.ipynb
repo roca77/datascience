{
 "cells": [
  {
   "cell_type": "code",
   "execution_count": 1,
   "metadata": {},
   "outputs": [],
   "source": [
    "import pandas as pd"
   ]
  },
  {
   "cell_type": "code",
   "execution_count": 2,
   "metadata": {},
   "outputs": [],
   "source": [
    "from matplotlib import pyplot as plt"
   ]
  },
  {
   "cell_type": "code",
   "execution_count": 5,
   "metadata": {},
   "outputs": [],
   "source": [
    "airbnb_cal_data = pd.read_csv('calendar.csv')"
   ]
  },
  {
   "cell_type": "code",
   "execution_count": 12,
   "metadata": {},
   "outputs": [
    {
     "data": {
      "text/html": [
       "<div>\n",
       "<style scoped>\n",
       "    .dataframe tbody tr th:only-of-type {\n",
       "        vertical-align: middle;\n",
       "    }\n",
       "\n",
       "    .dataframe tbody tr th {\n",
       "        vertical-align: top;\n",
       "    }\n",
       "\n",
       "    .dataframe thead th {\n",
       "        text-align: right;\n",
       "    }\n",
       "</style>\n",
       "<table border=\"1\" class=\"dataframe\">\n",
       "  <thead>\n",
       "    <tr style=\"text-align: right;\">\n",
       "      <th></th>\n",
       "      <th>listing_id</th>\n",
       "      <th>date</th>\n",
       "      <th>available</th>\n",
       "      <th>price</th>\n",
       "    </tr>\n",
       "  </thead>\n",
       "  <tbody>\n",
       "    <tr>\n",
       "      <th>0</th>\n",
       "      <td>675177</td>\n",
       "      <td>2019-06-28</td>\n",
       "      <td>t</td>\n",
       "      <td>$2,560.00</td>\n",
       "    </tr>\n",
       "    <tr>\n",
       "      <th>1</th>\n",
       "      <td>209532</td>\n",
       "      <td>2019-08-19</td>\n",
       "      <td>t</td>\n",
       "      <td>$5,000.00</td>\n",
       "    </tr>\n",
       "    <tr>\n",
       "      <th>2</th>\n",
       "      <td>209532</td>\n",
       "      <td>2019-08-18</td>\n",
       "      <td>t</td>\n",
       "      <td>$5,000.00</td>\n",
       "    </tr>\n",
       "    <tr>\n",
       "      <th>3</th>\n",
       "      <td>209532</td>\n",
       "      <td>2019-08-17</td>\n",
       "      <td>t</td>\n",
       "      <td>$5,000.00</td>\n",
       "    </tr>\n",
       "    <tr>\n",
       "      <th>4</th>\n",
       "      <td>209532</td>\n",
       "      <td>2019-08-16</td>\n",
       "      <td>t</td>\n",
       "      <td>$5,000.00</td>\n",
       "    </tr>\n",
       "    <tr>\n",
       "      <th>5</th>\n",
       "      <td>209532</td>\n",
       "      <td>2019-08-15</td>\n",
       "      <td>t</td>\n",
       "      <td>$5,000.00</td>\n",
       "    </tr>\n",
       "    <tr>\n",
       "      <th>6</th>\n",
       "      <td>209532</td>\n",
       "      <td>2019-08-14</td>\n",
       "      <td>t</td>\n",
       "      <td>$5,000.00</td>\n",
       "    </tr>\n",
       "    <tr>\n",
       "      <th>7</th>\n",
       "      <td>209532</td>\n",
       "      <td>2019-08-13</td>\n",
       "      <td>t</td>\n",
       "      <td>$5,000.00</td>\n",
       "    </tr>\n",
       "    <tr>\n",
       "      <th>8</th>\n",
       "      <td>209532</td>\n",
       "      <td>2019-08-12</td>\n",
       "      <td>t</td>\n",
       "      <td>$5,000.00</td>\n",
       "    </tr>\n",
       "    <tr>\n",
       "      <th>9</th>\n",
       "      <td>209532</td>\n",
       "      <td>2019-08-11</td>\n",
       "      <td>t</td>\n",
       "      <td>$5,000.00</td>\n",
       "    </tr>\n",
       "  </tbody>\n",
       "</table>\n",
       "</div>"
      ],
      "text/plain": [
       "   listing_id        date available      price\n",
       "0      675177  2019-06-28         t  $2,560.00\n",
       "1      209532  2019-08-19         t  $5,000.00\n",
       "2      209532  2019-08-18         t  $5,000.00\n",
       "3      209532  2019-08-17         t  $5,000.00\n",
       "4      209532  2019-08-16         t  $5,000.00\n",
       "5      209532  2019-08-15         t  $5,000.00\n",
       "6      209532  2019-08-14         t  $5,000.00\n",
       "7      209532  2019-08-13         t  $5,000.00\n",
       "8      209532  2019-08-12         t  $5,000.00\n",
       "9      209532  2019-08-11         t  $5,000.00"
      ]
     },
     "execution_count": 12,
     "metadata": {},
     "output_type": "execute_result"
    }
   ],
   "source": [
    "airbnb_cal_data[0:10]"
   ]
  },
  {
   "cell_type": "code",
   "execution_count": 15,
   "metadata": {},
   "outputs": [
    {
     "data": {
      "text/plain": [
       "False    7722670\n",
       "Name: listing_id, dtype: int64"
      ]
     },
     "execution_count": 15,
     "metadata": {},
     "output_type": "execute_result"
    }
   ],
   "source": [
    "airbnb_cal_data['listing_id'].isnull().value_counts()"
   ]
  },
  {
   "cell_type": "code",
   "execution_count": 8,
   "metadata": {},
   "outputs": [],
   "source": [
    "# Let's do some analysis, counting..."
   ]
  },
  {
   "cell_type": "code",
   "execution_count": 34,
   "metadata": {},
   "outputs": [
    {
     "data": {
      "text/plain": [
       "listing_id  date      \n",
       "3191        2019-08-16    2019-08-16\n",
       "            2019-08-17    2019-08-17\n",
       "            2019-08-18    2019-08-18\n",
       "            2019-08-19    2019-08-19\n",
       "            2019-08-20    2019-08-20\n",
       "            2019-08-21    2019-08-21\n",
       "            2019-08-22    2019-08-22\n",
       "            2019-08-23    2019-08-23\n",
       "            2019-08-24    2019-08-24\n",
       "            2019-08-25    2019-08-25\n",
       "            2019-08-26    2019-08-26\n",
       "            2019-08-27    2019-08-27\n",
       "            2019-08-28    2019-08-28\n",
       "            2019-08-29    2019-08-29\n",
       "            2019-08-30    2019-08-30\n",
       "            2019-08-31    2019-08-31\n",
       "            2019-09-01    2019-09-01\n",
       "            2019-09-02    2019-09-02\n",
       "            2019-09-03    2019-09-03\n",
       "            2019-09-04    2019-09-04\n",
       "            2019-09-05    2019-09-05\n",
       "            2019-09-06    2019-09-06\n",
       "            2019-09-07    2019-09-07\n",
       "            2019-09-08    2019-09-08\n",
       "            2019-09-09    2019-09-09\n",
       "            2019-09-10    2019-09-10\n",
       "            2019-09-11    2019-09-11\n",
       "            2019-09-12    2019-09-12\n",
       "            2019-09-13    2019-09-13\n",
       "            2019-09-14    2019-09-14\n",
       "                             ...    \n",
       "209532      2019-08-13    2019-08-13\n",
       "            2019-08-14    2019-08-14\n",
       "            2019-08-15    2019-08-15\n",
       "            2019-08-16    2019-08-16\n",
       "            2019-08-17    2019-08-17\n",
       "            2019-08-18    2019-08-18\n",
       "            2019-08-19    2019-08-19\n",
       "675177      2019-06-06    2019-06-06\n",
       "            2019-06-07    2019-06-07\n",
       "            2019-06-08    2019-06-08\n",
       "            2019-06-09    2019-06-09\n",
       "            2019-06-10    2019-06-10\n",
       "            2019-06-11    2019-06-11\n",
       "            2019-06-12    2019-06-12\n",
       "            2019-06-13    2019-06-13\n",
       "            2019-06-14    2019-06-14\n",
       "            2019-06-15    2019-06-15\n",
       "            2019-06-16    2019-06-16\n",
       "            2019-06-17    2019-06-17\n",
       "            2019-06-18    2019-06-18\n",
       "            2019-06-19    2019-06-19\n",
       "            2019-06-20    2019-06-20\n",
       "            2019-06-21    2019-06-21\n",
       "            2019-06-22    2019-06-22\n",
       "            2019-06-23    2019-06-23\n",
       "            2019-06-24    2019-06-24\n",
       "            2019-06-25    2019-06-25\n",
       "            2019-06-26    2019-06-26\n",
       "            2019-06-27    2019-06-27\n",
       "            2019-06-28    2019-06-28\n",
       "Name: date, Length: 100, dtype: object"
      ]
     },
     "execution_count": 34,
     "metadata": {},
     "output_type": "execute_result"
    }
   ],
   "source": [
    "airbnb_cal_data[0:100].groupby(['listing_id', 'date'])['date'].sum()"
   ]
  },
  {
   "cell_type": "code",
   "execution_count": 36,
   "metadata": {},
   "outputs": [],
   "source": [
    "# This doesn't tell us a lot. Since no information was giving with the data, we have to create meaning or find it.."
   ]
  },
  {
   "cell_type": "code",
   "execution_count": null,
   "metadata": {},
   "outputs": [],
   "source": []
  }
 ],
 "metadata": {
  "kernelspec": {
   "display_name": "Python 3",
   "language": "python",
   "name": "python3"
  },
  "language_info": {
   "codemirror_mode": {
    "name": "ipython",
    "version": 3
   },
   "file_extension": ".py",
   "mimetype": "text/x-python",
   "name": "python",
   "nbconvert_exporter": "python",
   "pygments_lexer": "ipython3",
   "version": "3.7.0"
  }
 },
 "nbformat": 4,
 "nbformat_minor": 2
}
