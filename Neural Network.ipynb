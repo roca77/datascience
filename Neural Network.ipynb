{
 "cells": [
  {
   "cell_type": "code",
   "execution_count": 4,
   "metadata": {},
   "outputs": [],
   "source": [
    "#******************Neural Network*******************\n",
    "#******************by Y. Traore ********************\n",
    "#******************Data Science & ML****************"
   ]
  },
  {
   "cell_type": "markdown",
   "metadata": {},
   "source": [
    "# Our neural will be built without using any neural network library"
   ]
  },
  {
   "cell_type": "code",
   "execution_count": null,
   "metadata": {},
   "outputs": [],
   "source": [
    "# What is neural network ?\n",
    "# Wikipedia says that \"Such systems \"learn\" to perform tasks by considering examples, generally without\n",
    "# being programmed with any task-specific rules.\""
   ]
  },
  {
   "cell_type": "code",
   "execution_count": null,
   "metadata": {},
   "outputs": [],
   "source": [
    "# We will build a small network that will learn to predict a number, after looking at the training inputs"
   ]
  },
  {
   "cell_type": "code",
   "execution_count": null,
   "metadata": {},
   "outputs": [],
   "source": [
    "# First, let's import a few librairies."
   ]
  },
  {
   "cell_type": "code",
   "execution_count": 12,
   "metadata": {},
   "outputs": [
    {
     "name": "stdout",
     "output_type": "stream",
     "text": [
      "[0.99816571]\n"
     ]
    }
   ],
   "source": [
    "from numpy import exp, array, random, dot\n",
    "\n",
    "# We will set two arrays. The first set is our training data, each array being an example.\n",
    "# Each example corresponds to an outcome, either 0 or 1 in this case, in the outputs set.\n",
    "\n",
    "training_set_inputs = array([[0, 0, 1], [1, 1, 1], [1, 0, 1], [0, 1, 1], [1, 1, 1]])\n",
    "training_set_outputs = array([[1, 1, 1, 1, 1]]).T\n",
    "\n",
    "#**The T at the end of output array helps 'transpose' the matric from horizontal to vertical.\n",
    "\n",
    "# Random number generator for the weight generation.\n",
    "random.seed(1)\n",
    "\n",
    "# Since we are building a single neuro, with 3 input connections and one output.\n",
    "# Also assign random weights to a 3 by 1 matrix, values ranging betw -1 to 1 and a mean of zero.\n",
    "synaptic_weights = 2 * random.random((3, 1)) - 1\n",
    "\n",
    "# Iterate 10000 times and make adjustment each time...How powerful could this be?\n",
    "\n",
    "\n",
    "for iteration in range(10000):\n",
    "    output = 1 / (1 + exp(-(dot(training_set_inputs, synaptic_weights))))\n",
    "    synaptic_weights += dot(training_set_inputs.T, (training_set_outputs - output) * output * (1 - output))\n",
    "    \n",
    "    \n",
    "# We give a new situation to the neuro to come up with the appropriate value.\n",
    "\n",
    "print(1 / (1 + exp(-(dot(array([1, 0, 1]), synaptic_weights)))))"
   ]
  },
  {
   "cell_type": "code",
   "execution_count": null,
   "metadata": {},
   "outputs": [],
   "source": [
    "# Where can we use this?"
   ]
  },
  {
   "cell_type": "code",
   "execution_count": 13,
   "metadata": {},
   "outputs": [],
   "source": [
    "# Well, we can start making prediction based on some inputs. We can set the number of input and encode them (more reading require\n",
    "# in that area about the input data structure). We can make sense of a lot of random even with this type of tool. \n",
    "# This could be interesting if it could output more, like in case of lotto gaming."
   ]
  },
  {
   "cell_type": "code",
   "execution_count": null,
   "metadata": {},
   "outputs": [],
   "source": [
    "#******************End*******************"
   ]
  }
 ],
 "metadata": {
  "kernelspec": {
   "display_name": "Python 3",
   "language": "python",
   "name": "python3"
  },
  "language_info": {
   "codemirror_mode": {
    "name": "ipython",
    "version": 3
   },
   "file_extension": ".py",
   "mimetype": "text/x-python",
   "name": "python",
   "nbconvert_exporter": "python",
   "pygments_lexer": "ipython3",
   "version": "3.7.0"
  }
 },
 "nbformat": 4,
 "nbformat_minor": 2
}
